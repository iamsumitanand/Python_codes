{
  "nbformat": 4,
  "nbformat_minor": 0,
  "metadata": {
    "colab": {
      "name": "MyPython_Basic_codes.ipynb",
      "provenance": [],
      "collapsed_sections": []
    },
    "kernelspec": {
      "name": "python3",
      "display_name": "Python 3"
    },
    "language_info": {
      "name": "python"
    }
  },
  "cells": [
    {
      "cell_type": "code",
      "metadata": {
        "id": "Vxj1q-lFPmRo"
      },
      "source": [
        "my_list = [1,2,3]"
      ],
      "execution_count": null,
      "outputs": []
    },
    {
      "cell_type": "code",
      "metadata": {
        "id": "Bs9VIKXNPwUf"
      },
      "source": [
        "my_list.append(4)"
      ],
      "execution_count": null,
      "outputs": []
    },
    {
      "cell_type": "code",
      "metadata": {
        "colab": {
          "base_uri": "https://localhost:8080/"
        },
        "id": "hs0xrBAsP1lk",
        "outputId": "f2f9cd05-4442-4ab9-920c-d49a22f1c0c9"
      },
      "source": [
        "my_list"
      ],
      "execution_count": null,
      "outputs": [
        {
          "output_type": "execute_result",
          "data": {
            "text/plain": [
              "[1, 2, 3, 4]"
            ]
          },
          "metadata": {},
          "execution_count": 4
        }
      ]
    },
    {
      "cell_type": "code",
      "metadata": {
        "colab": {
          "base_uri": "https://localhost:8080/"
        },
        "id": "hYfjdpcdP-gH",
        "outputId": "7a8a2aff-b23c-4a08-9c87-f4f21fbdf405"
      },
      "source": [
        "my_list.pop()"
      ],
      "execution_count": null,
      "outputs": [
        {
          "output_type": "execute_result",
          "data": {
            "text/plain": [
              "4"
            ]
          },
          "metadata": {},
          "execution_count": 6
        }
      ]
    },
    {
      "cell_type": "markdown",
      "metadata": {
        "id": "EIgW4fXkQtRR"
      },
      "source": [
        "Press Shift+Tab after the method to open the help menu\n"
      ]
    },
    {
      "cell_type": "code",
      "metadata": {
        "id": "hX_NldOaQEDy"
      },
      "source": [
        "my_list.insert(2,4)"
      ],
      "execution_count": null,
      "outputs": []
    },
    {
      "cell_type": "code",
      "metadata": {
        "colab": {
          "base_uri": "https://localhost:8080/"
        },
        "id": "LNkFlzf5Su_D",
        "outputId": "3a40e8af-2c48-4689-e7e4-65403b1ec5c8"
      },
      "source": [
        "help(my_list.insert)"
      ],
      "execution_count": null,
      "outputs": [
        {
          "output_type": "stream",
          "name": "stdout",
          "text": [
            "Help on built-in function insert:\n",
            "\n",
            "insert(index, object, /) method of builtins.list instance\n",
            "    Insert object before index.\n",
            "\n"
          ]
        }
      ]
    },
    {
      "cell_type": "code",
      "metadata": {
        "colab": {
          "base_uri": "https://localhost:8080/"
        },
        "id": "yFU5XwGBQWFw",
        "outputId": "fdb66595-1f9f-4c33-b766-2d106baf11ca"
      },
      "source": [
        "my_list"
      ],
      "execution_count": null,
      "outputs": [
        {
          "output_type": "execute_result",
          "data": {
            "text/plain": [
              "[1, 2, 4, 3]"
            ]
          },
          "metadata": {},
          "execution_count": 9
        }
      ]
    },
    {
      "cell_type": "markdown",
      "metadata": {
        "id": "84FlCrG9Uf7o"
      },
      "source": [
        "In a function we use \"return\" when we want to send back theresult of the function insted of just printing it out. \"return\" allows us to assign the output of the function to a new variable\n"
      ]
    },
    {
      "cell_type": "code",
      "metadata": {
        "colab": {
          "base_uri": "https://localhost:8080/"
        },
        "id": "WyFvntj3SpcX",
        "outputId": "10081cd5-880c-42e4-c397-4ac6bfbb4f77"
      },
      "source": [
        "def say_hello(name) :\n",
        "  print(\"Hello \" + name)\n",
        "\n",
        "say_hello(\"Ballu\")"
      ],
      "execution_count": null,
      "outputs": [
        {
          "output_type": "stream",
          "name": "stdout",
          "text": [
            "Hello Ballu\n"
          ]
        }
      ]
    },
    {
      "cell_type": "code",
      "metadata": {
        "colab": {
          "base_uri": "https://localhost:8080/"
        },
        "id": "bDdAhE7fVcX6",
        "outputId": "d4a996dd-8c1d-4384-efe7-d87bdcaa0977"
      },
      "source": [
        "def say_hello(name) :\n",
        "  print(f'Hello {name}')\n",
        "\n",
        "say_hello(\"Ballu\")"
      ],
      "execution_count": null,
      "outputs": [
        {
          "output_type": "stream",
          "name": "stdout",
          "text": [
            "Hello Ballu\n"
          ]
        }
      ]
    },
    {
      "cell_type": "markdown",
      "metadata": {
        "id": "JFfBPRc9V_i4"
      },
      "source": [
        "This is a function with a default argument\n"
      ]
    },
    {
      "cell_type": "code",
      "metadata": {
        "colab": {
          "base_uri": "https://localhost:8080/"
        },
        "id": "dLArAojcVsfg",
        "outputId": "bd01be76-6b33-401b-eee9-b7f4536270c6"
      },
      "source": [
        "def say_hello(name='Sumit') :\n",
        "  print(\"Hello \" + name)\n",
        "\n",
        "say_hello(\"Ballu\")\n",
        "say_hello()"
      ],
      "execution_count": null,
      "outputs": [
        {
          "output_type": "stream",
          "name": "stdout",
          "text": [
            "Hello Ballu\n",
            "Hello Sumit\n"
          ]
        }
      ]
    },
    {
      "cell_type": "code",
      "metadata": {
        "colab": {
          "base_uri": "https://localhost:8080/"
        },
        "id": "cKKVKxGKWDfi",
        "outputId": "e38395dd-e972-45d3-bc60-9aeacf8927e2"
      },
      "source": [
        "def return_add_num(num1,num2):\n",
        "  return num1+num2\n",
        "def print_add_num(num1,num2):\n",
        "  print(num1+num2)\n",
        "result1 = return_add_num(3,5)\n",
        "result2 = print_add_num(3,5)"
      ],
      "execution_count": null,
      "outputs": [
        {
          "output_type": "stream",
          "name": "stdout",
          "text": [
            "8\n"
          ]
        }
      ]
    },
    {
      "cell_type": "code",
      "metadata": {
        "colab": {
          "base_uri": "https://localhost:8080/"
        },
        "id": "CT1nNRBWXzBO",
        "outputId": "e806092f-d61a-4b41-bc86-79a2446abd87"
      },
      "source": [
        "result1 "
      ],
      "execution_count": null,
      "outputs": [
        {
          "output_type": "execute_result",
          "data": {
            "text/plain": [
              "8"
            ]
          },
          "metadata": {},
          "execution_count": 21
        }
      ]
    },
    {
      "cell_type": "markdown",
      "metadata": {
        "id": "HeZnM-dXX-u9"
      },
      "source": [
        "result1 will give an output but not result2 because it's functio has print and return1 has return"
      ]
    },
    {
      "cell_type": "code",
      "metadata": {
        "id": "oNRSND5iX6oy"
      },
      "source": [
        "result2"
      ],
      "execution_count": null,
      "outputs": []
    },
    {
      "cell_type": "code",
      "metadata": {
        "colab": {
          "base_uri": "https://localhost:8080/",
          "height": 35
        },
        "id": "1M1Dy2SCYPBn",
        "outputId": "17be172a-f8bf-4fc5-cccf-25dff0fb076d"
      },
      "source": [
        "def add_num(num1,num2):\n",
        "  return num1+num2\n",
        "\n",
        "add_num('10','20')"
      ],
      "execution_count": null,
      "outputs": [
        {
          "output_type": "execute_result",
          "data": {
            "application/vnd.google.colaboratory.intrinsic+json": {
              "type": "string"
            },
            "text/plain": [
              "'1020'"
            ]
          },
          "metadata": {},
          "execution_count": 23
        }
      ]
    },
    {
      "cell_type": "code",
      "metadata": {
        "colab": {
          "base_uri": "https://localhost:8080/"
        },
        "id": "RI1tfccWZnhf",
        "outputId": "d77d6703-94c9-4947-f310-cdb98b9a0026"
      },
      "source": [
        "def even_check(num) :\n",
        "  result = num%2 ==0\n",
        "  return result\n",
        "\n",
        "even_check(15)\n"
      ],
      "execution_count": null,
      "outputs": [
        {
          "output_type": "execute_result",
          "data": {
            "text/plain": [
              "False"
            ]
          },
          "metadata": {},
          "execution_count": 28
        }
      ]
    },
    {
      "cell_type": "code",
      "metadata": {
        "colab": {
          "base_uri": "https://localhost:8080/"
        },
        "id": "6ySBtmdXaL-9",
        "outputId": "7f8b59f8-abf1-4040-d713-18b92c511fde"
      },
      "source": [
        "def Check_for_even(check_list) :\n",
        "  even_list = []\n",
        "  odd_list = []\n",
        "  for i in check_list :\n",
        "    if i %2==0 :\n",
        "     even_list.append(i)\n",
        "    elif i%2 !=0 :\n",
        "      odd_list.append(i)\n",
        "    else :\n",
        "      pass\n",
        "\n",
        "  print(even_list)\n",
        "  print(odd_list)\n",
        "\n",
        "check_list=[0,1,2,3,4,5,6,7,8,9,10]\n",
        "Check_for_even(check_list)"
      ],
      "execution_count": 1,
      "outputs": [
        {
          "output_type": "stream",
          "name": "stdout",
          "text": [
            "[0, 2, 4, 6, 8, 10]\n",
            "[1, 3, 5, 7, 9]\n"
          ]
        }
      ]
    },
    {
      "cell_type": "markdown",
      "metadata": {
        "id": "5pShi8VjfKwQ"
      },
      "source": [
        "Tuple unpacking"
      ]
    },
    {
      "cell_type": "code",
      "metadata": {
        "colab": {
          "base_uri": "https://localhost:8080/"
        },
        "id": "4eoqzAz9fHSi",
        "outputId": "b8265e8e-7beb-4f3b-8c73-fa36f03dd63c"
      },
      "source": [
        "stock_prices = [('Apple',400),('Google',300),('Microsoft',500)]\n",
        "for i in stock_prices :\n",
        "  print(i)"
      ],
      "execution_count": null,
      "outputs": [
        {
          "output_type": "stream",
          "name": "stdout",
          "text": [
            "('Apple', 400)\n",
            "('Google', 300)\n",
            "('Microsoft', 500)\n"
          ]
        }
      ]
    },
    {
      "cell_type": "code",
      "metadata": {
        "colab": {
          "base_uri": "https://localhost:8080/"
        },
        "id": "fLn-Py8Kf-PK",
        "outputId": "4d812195-f472-4f2e-9e04-66f5d882f036"
      },
      "source": [
        "for i,p in stock_prices :\n",
        "  print(i)"
      ],
      "execution_count": null,
      "outputs": [
        {
          "output_type": "stream",
          "name": "stdout",
          "text": [
            "Apple\n",
            "Google\n",
            "Microsoft\n"
          ]
        }
      ]
    },
    {
      "cell_type": "code",
      "metadata": {
        "colab": {
          "base_uri": "https://localhost:8080/"
        },
        "id": "eyovdLChgJVz",
        "outputId": "20a97acb-3c6b-4df6-8c6a-08d57d5f22e9"
      },
      "source": [
        "for i,p in stock_prices :\n",
        "  print(p)"
      ],
      "execution_count": null,
      "outputs": [
        {
          "output_type": "stream",
          "name": "stdout",
          "text": [
            "400\n",
            "300\n",
            "500\n"
          ]
        }
      ]
    },
    {
      "cell_type": "code",
      "metadata": {
        "colab": {
          "base_uri": "https://localhost:8080/"
        },
        "id": "pXU3gMG_gq4v",
        "outputId": "cfeaf3e2-02be-4cd0-a563-c15fe52366b9"
      },
      "source": [
        "work_hours = [('ram',500),('shyam',680),('Geeta',456),('sita',345)]\n",
        "\n",
        "def employee_check(work_hours) :\n",
        "  time = 0\n",
        "  Best_employee = ''\n",
        "  for emp,hrs in work_hours :\n",
        "    if hrs > time :\n",
        "      time = hrs \n",
        "      Best_employee = emp\n",
        "    else:\n",
        "      pass\n",
        "  return (Best_employee,time)\n",
        "\n",
        "employee_check(work_hours)"
      ],
      "execution_count": null,
      "outputs": [
        {
          "output_type": "execute_result",
          "data": {
            "text/plain": [
              "('shyam', 680)"
            ]
          },
          "metadata": {},
          "execution_count": 11
        }
      ]
    },
    {
      "cell_type": "markdown",
      "metadata": {
        "id": "lFObynPyjN2D"
      },
      "source": [
        "The returned element is a tuple so we can unpack it \n"
      ]
    },
    {
      "cell_type": "code",
      "metadata": {
        "id": "m2ndf5bii3Si"
      },
      "source": [
        "result = employee_check(work_hours)"
      ],
      "execution_count": null,
      "outputs": []
    },
    {
      "cell_type": "code",
      "metadata": {
        "id": "dpPmXcDpi-ZR"
      },
      "source": [
        "name,hours = employee_check(work_hours)"
      ],
      "execution_count": null,
      "outputs": []
    },
    {
      "cell_type": "code",
      "metadata": {
        "colab": {
          "base_uri": "https://localhost:8080/"
        },
        "id": "E6awf25GjFiG",
        "outputId": "11a5a848-9e4a-4b83-c6dc-5e67c82cc74d"
      },
      "source": [
        "result"
      ],
      "execution_count": null,
      "outputs": [
        {
          "output_type": "execute_result",
          "data": {
            "text/plain": [
              "('shyam', 680)"
            ]
          },
          "metadata": {},
          "execution_count": 15
        }
      ]
    },
    {
      "cell_type": "code",
      "metadata": {
        "colab": {
          "base_uri": "https://localhost:8080/",
          "height": 35
        },
        "id": "IUTHpBFRjGkh",
        "outputId": "04c8132c-7660-47e4-bf84-fed15491977e"
      },
      "source": [
        "name"
      ],
      "execution_count": null,
      "outputs": [
        {
          "output_type": "execute_result",
          "data": {
            "application/vnd.google.colaboratory.intrinsic+json": {
              "type": "string"
            },
            "text/plain": [
              "'shyam'"
            ]
          },
          "metadata": {},
          "execution_count": 16
        }
      ]
    },
    {
      "cell_type": "code",
      "metadata": {
        "colab": {
          "base_uri": "https://localhost:8080/"
        },
        "id": "1nBN09k4jHPJ",
        "outputId": "2ac0a35e-dec7-477d-b109-812b6923aa40"
      },
      "source": [
        "hours"
      ],
      "execution_count": null,
      "outputs": [
        {
          "output_type": "execute_result",
          "data": {
            "text/plain": [
              "680"
            ]
          },
          "metadata": {},
          "execution_count": 17
        }
      ]
    },
    {
      "cell_type": "markdown",
      "metadata": {
        "id": "KlyejzYXkfth"
      },
      "source": [
        "each time you run this code you will get a different result because of the \"shuffle\""
      ]
    },
    {
      "cell_type": "code",
      "metadata": {
        "colab": {
          "base_uri": "https://localhost:8080/"
        },
        "id": "gyYspfpIjH_r",
        "outputId": "c2da7cd4-b862-4256-e71c-a9c57c86d6c9"
      },
      "source": [
        "example = [1,2,3,4,5,6,7]\n",
        "from random import shuffle\n",
        "shuffle(example)\n",
        "print(example)\n"
      ],
      "execution_count": 2,
      "outputs": [
        {
          "output_type": "stream",
          "name": "stdout",
          "text": [
            "[1, 5, 3, 2, 7, 4, 6]\n"
          ]
        }
      ]
    },
    {
      "cell_type": "markdown",
      "metadata": {
        "id": "FJt10hFvdu4t"
      },
      "source": [
        "This program is a guessing game you guess a number[0,2] and it tells you whether you are right ot not i.e. the 'O' existed at your guessed place or not."
      ]
    },
    {
      "cell_type": "code",
      "metadata": {
        "colab": {
          "base_uri": "https://localhost:8080/"
        },
        "id": "j7iJ5FiGckXr",
        "outputId": "c8cefe87-ebd6-4a36-9c5e-49c418b96da5"
      },
      "source": [
        "def shuffle_list(mylist) :\n",
        "  shuffle(mylist)\n",
        "  return mylist\n",
        "\n",
        "mylist = [' ','O',' ']\n",
        "\n",
        "def player_guess() :\n",
        "  guess = ''\n",
        "  while guess not in ['0','1','2'] :\n",
        "    guess = input(\"Pick a number : 0,1,or 2\")\n",
        "  return int(guess)\n",
        "\n",
        "def check_guess(mylist,myguess) :\n",
        "  if mylist[myguess] == 'O' :\n",
        "    print(\"Holaa You won\")\n",
        "\n",
        "  else :\n",
        "    print(\"Wrong Guess\")\n",
        "    print(mylist)\n",
        "\n",
        "\n",
        "\n",
        "#initial list\n",
        "mylist = [' ','O',' ']\n",
        "\n",
        "# shuffled list\n",
        "shuffle_list(mylist)\n",
        "\n",
        "#user Guess\n",
        "myguess = player_guess()\n",
        "\n",
        "#Check Guess\n",
        "check_guess(mylist,myguess)\n",
        "\n"
      ],
      "execution_count": 3,
      "outputs": [
        {
          "output_type": "stream",
          "name": "stdout",
          "text": [
            "Pick a number : 0,1,or 22\n",
            "Wrong Guess\n",
            "[' ', 'O', ' ']\n"
          ]
        }
      ]
    }
  ]
}